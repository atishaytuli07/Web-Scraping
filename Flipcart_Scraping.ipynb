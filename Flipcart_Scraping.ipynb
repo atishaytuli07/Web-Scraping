{
 "cells": [
  {
   "cell_type": "code",
   "execution_count": 1,
   "id": "3a46ec46-325a-475f-bc8d-f555d36dde8e",
   "metadata": {},
   "outputs": [],
   "source": [
    "import requests\n",
    "from bs4 import BeautifulSoup\n",
    "from urllib.request import urlopen\n",
    "import logging"
   ]
  },
  {
   "cell_type": "code",
   "execution_count": 2,
   "id": "84d6535e-7e2a-460a-9999-56fe4106f88e",
   "metadata": {},
   "outputs": [],
   "source": [
    "flipcart_url = \"https://www.flipkart.com/search?q=\" + \"redmi\""
   ]
  },
  {
   "cell_type": "code",
   "execution_count": 3,
   "id": "e588e591-6474-478a-8af9-7be06a36cf87",
   "metadata": {},
   "outputs": [],
   "source": [
    "urlclient = urlopen(flipcart_url)"
   ]
  },
  {
   "cell_type": "code",
   "execution_count": 4,
   "id": "651412c8-ed6f-42ba-af17-b4d529216843",
   "metadata": {},
   "outputs": [],
   "source": [
    "flipcart_page = urlclient.read()"
   ]
  },
  {
   "cell_type": "code",
   "execution_count": 5,
   "id": "61f09366-b05f-4aa7-b525-82c8c692fa32",
   "metadata": {},
   "outputs": [],
   "source": [
    "try:\n",
    "    flipcart_html = BeautifulSoup(flipcart_page, 'html.parser')\n",
    "except Exception as e:\n",
    "    print(e)"
   ]
  },
  {
   "cell_type": "code",
   "execution_count": 6,
   "id": "8568ce29-7146-4831-8f09-1cd1e6050ee2",
   "metadata": {},
   "outputs": [],
   "source": [
    "content = flipcart_html.find_all(\"div\", {\"class\":\"_13oc-S\"})"
   ]
  },
  {
   "cell_type": "code",
   "execution_count": 7,
   "id": "4dc73be0-34b0-4de1-914e-2d1dc3f6066b",
   "metadata": {},
   "outputs": [],
   "source": [
    "product_title = flipcart_html.find_all(\"div\", {\"class\": \"_4rR01T\"})"
   ]
  },
  {
   "cell_type": "code",
   "execution_count": 8,
   "id": "37a07801-c7ef-4089-a51c-10fef929bb31",
   "metadata": {},
   "outputs": [
    {
     "name": "stdout",
     "output_type": "stream",
     "text": [
      "REDMI 11 Prime (Peppy Purple, 64 GB)\n",
      "REDMI 11 Prime (Flashy Black, 128 GB)\n",
      "REDMI A1+ (Black, 32 GB)\n",
      "REDMI 11 Prime (Peppy Purple, 128 GB)\n",
      "REDMI 12 (Jade Black, 128 GB)\n",
      "REDMI 12 (Jade Black, 128 GB)\n",
      "REDMI 11 Prime (Playful Green, 128 GB)\n",
      "REDMI 12 (Pastel Blue, 128 GB)\n",
      "REDMI A2 (Sea Green, 64 GB)\n",
      "REDMI 10000 mAh Power Bank (10 W, Fast Charging)\n",
      "REDMI 10000 mAh Power Bank (10 W, Fast Charging)\n",
      "REDMI A1+ (Light Green, 32 GB)\n",
      "REDMI 20000 mAh Power Bank (18 W, Fast Charging)\n",
      "REDMI 20000 mAh Power Bank (18 W, Fast Charging)\n",
      "REDMI Note 12 (Lunar Black, 64 GB)\n",
      "Redmi by Mi Hi-Resolution Audio Wired Headset\n",
      "REDMI Note 12 Pro 5G (Glacier Blue, 128 GB)\n",
      "REDMI 12C (Royal Blue, 128 GB)\n",
      "REDMI Note 12 Pro 5G (Stardust Purple, 128 GB)\n",
      "REDMI Note 12 Pro 5G (Onyx Black, 128 GB)\n",
      "REDMI Note 12 5G (Mystique Blue, 128 GB)\n",
      "REDMI Note 12 5G (Frosted Green, 128 GB)\n",
      "REDMI Pad 4 GB RAM 128 GB ROM 10.61 Inch with Wi-Fi Only Tablet (Moonlight Silver)\n",
      "REDMI A2 (Classic Black, 64 GB)\n"
     ]
    }
   ],
   "source": [
    "for title in product_title:\n",
    "    print(title.text)"
   ]
  },
  {
   "cell_type": "code",
   "execution_count": 9,
   "id": "c9e370fa-5fcb-43ee-9e62-4905fb0d4c6a",
   "metadata": {},
   "outputs": [],
   "source": [
    "product_price = flipcart_html.find_all(\"div\", {\"class\": \"_30jeq3 _1_WHN1\"})"
   ]
  },
  {
   "cell_type": "code",
   "execution_count": 10,
   "id": "2d8353a7-75d6-4e09-8a0a-ba1009af27d3",
   "metadata": {},
   "outputs": [
    {
     "name": "stdout",
     "output_type": "stream",
     "text": [
      "₹8,999\n",
      "₹10,999\n",
      "₹6,299\n",
      "₹10,999\n",
      "₹11,499\n",
      "₹9,999\n",
      "₹10,999\n",
      "₹9,999\n",
      "₹7,320\n",
      "₹1,199\n",
      "₹1,199\n",
      "₹6,299\n",
      "₹2,049\n",
      "₹2,049\n",
      "₹13,999\n",
      "₹449\n",
      "₹23,999\n",
      "₹9,490\n",
      "₹23,999\n",
      "₹23,999\n",
      "₹18,999\n",
      "₹18,999\n",
      "₹15,999\n",
      "₹7,213\n"
     ]
    }
   ],
   "source": [
    "for price in product_price:\n",
    "    print(price.text)"
   ]
  },
  {
   "cell_type": "code",
   "execution_count": 11,
   "id": "33699a26-1b34-474a-9818-e01fc9625b82",
   "metadata": {},
   "outputs": [],
   "source": [
    "product_rating = flipcart_html.find_all(\"div\", {\"class\": \"_3LWZlK\"})"
   ]
  },
  {
   "cell_type": "code",
   "execution_count": 12,
   "id": "3031f0f9-76cf-49e8-b1ed-46938dcc4a32",
   "metadata": {},
   "outputs": [
    {
     "name": "stdout",
     "output_type": "stream",
     "text": [
      "4.3\n",
      "4.4\n",
      "4.2\n",
      "4.4\n",
      "4.2\n",
      "4.4\n",
      "4.4\n",
      "4.4\n",
      "4.1\n",
      "4.2\n",
      "4.2\n",
      "4.2\n",
      "4.3\n",
      "4.3\n",
      "4.1\n",
      "4.2\n",
      "4.2\n",
      "4.2\n",
      "4.2\n",
      "4.2\n",
      "4.1\n",
      "4.1\n",
      "4.4\n",
      "4.1\n",
      "4.2\n",
      "3\n",
      "4\n",
      "4.3\n",
      "5\n",
      "5\n",
      "4.4\n",
      "5\n",
      "1\n",
      "4.1\n",
      "1\n",
      "5\n",
      "4.2\n",
      "4\n",
      "1\n"
     ]
    }
   ],
   "source": [
    "for rating in product_rating:\n",
    "    print(rating.text)"
   ]
  },
  {
   "cell_type": "code",
   "execution_count": 13,
   "id": "78c81971-e37d-444c-94c5-a1fad9a79e32",
   "metadata": {},
   "outputs": [],
   "source": [
    "product_discount = flipcart_html.find_all(\"div\", {\"class\": \"_3Ay6Sb\"})"
   ]
  },
  {
   "cell_type": "code",
   "execution_count": 14,
   "id": "aeab306a-dffd-4dbc-8461-8d52ce529b42",
   "metadata": {},
   "outputs": [
    {
     "name": "stdout",
     "output_type": "stream",
     "text": [
      "40% off\n",
      "35% off\n",
      "37% off\n",
      "35% off\n",
      "28% off\n",
      "33% off\n",
      "35% off\n",
      "33% off\n",
      "33% off\n",
      "40% off\n",
      "40% off\n",
      "37% off\n",
      "31% off\n",
      "35% off\n",
      "26% off\n",
      "25% off\n",
      "14% off\n",
      "36% off\n",
      "14% off\n",
      "14% off\n",
      "13% off\n",
      "13% off\n",
      "44% off\n",
      "34% off\n",
      "36% off\n",
      "31% off\n",
      "33% off\n",
      "33% off\n",
      "37% off\n"
     ]
    }
   ],
   "source": [
    "for discount in product_discount:\n",
    "    print(discount.text)"
   ]
  },
  {
   "cell_type": "code",
   "execution_count": 15,
   "id": "a7faf4d4-797c-4a9a-8a0f-fb7540922312",
   "metadata": {},
   "outputs": [],
   "source": [
    "product_description = flipcart_html.find_all(\"li\", {\"class\": \"rgWa7D\"})"
   ]
  },
  {
   "cell_type": "code",
   "execution_count": 16,
   "id": "ada19a33-e31c-4f49-aecc-280363eb9bbd",
   "metadata": {},
   "outputs": [
    {
     "name": "stdout",
     "output_type": "stream",
     "text": [
      "4 GB RAM | 64 GB ROM | Expandable Upto 512 GB\n",
      "16.71 cm (6.58 inch) Full HD+ Display\n",
      "50MP + 2MP + 2MP | 8MP Front Camera\n",
      "5000 mAh Battery\n",
      "Helio G99 Processor\n",
      "1 Year Manufacturer Warranty for Phone and 6 Months Warranty for In the Box Accessories\n",
      "6 GB RAM | 128 GB ROM | Expandable Upto 512 GB\n",
      "16.71 cm (6.58 inch) Full HD+ Display\n",
      "50MP + 2MP + 2MP | 8MP Front Camera\n",
      "5000 mAh Battery\n",
      "Helio G99 Processor\n",
      "1 Year Manufacturer Warranty for Phone and 6 Months Warranty for In the Box Accessories\n",
      "2 GB RAM | 32 GB ROM | Expandable Upto 512 GB\n",
      "16.56 cm (6.52 inch) HD+ Display\n",
      "8MP Rear Camera | 5MP Front Camera\n",
      "5000 mAh Lithium Polymer Battery\n",
      "Mediatek Helio A22 Processor\n",
      "1 Year Manufacturer Warranty for Phone and 6 Months Warranty for in the Box Accessories\n",
      "6 GB RAM | 128 GB ROM | Expandable Upto 512 GB\n",
      "16.71 cm (6.58 inch) Full HD+ Display\n",
      "50MP + 2MP + 2MP | 8MP Front Camera\n",
      "5000 mAh Battery\n",
      "Helio G99 Processor\n",
      "1 Year Manufacturer Warranty for Phone and 6 Months Warranty for In the Box Accessories\n",
      "6 GB RAM | 128 GB ROM | Expandable Upto 1 TB\n",
      "17.25 cm (6.79 inch) Full HD+ Display\n",
      "50MP + 8MP + 2MP | 8MP Front Camera\n",
      "5000 mAh Battery\n",
      "Helio G88 Processor\n",
      "1 Year Manufacturer Warranty for Phone and 6 Months Warranty for in the Box Accessories\n",
      "4 GB RAM | 128 GB ROM | Expandable Upto 1 TB\n",
      "17.25 cm (6.79 inch) Full HD+ Display\n",
      "50MP + 8MP + 2MP | 8MP Front Camera\n",
      "5000 mAh Battery\n",
      "Helio G88 Processor\n",
      "1 Year Manufacturer Warranty for Phone and 6 Months Warranty for in the Box Accessories\n",
      "6 GB RAM | 128 GB ROM | Expandable Upto 512 GB\n",
      "16.71 cm (6.58 inch) Full HD+ Display\n",
      "50MP + 2MP + 2MP | 8MP Front Camera\n",
      "5000 mAh Battery\n",
      "Helio G99 Processor\n",
      "1 Year Manufacturer Warranty for Phone and 6 Months Warranty for In the Box Accessories\n",
      "4 GB RAM | 128 GB ROM | Expandable Upto 1 TB\n",
      "17.25 cm (6.79 inch) Full HD+ Display\n",
      "50MP + 8MP + 2MP | 8MP Front Camera\n",
      "5000 mAh Battery\n",
      "Helio G88 Processor\n",
      "1 Year Manufacturer Warranty for Phone and 6 Months Warranty for in the Box Accessories\n",
      "4 GB RAM | 64 GB ROM\n",
      "16.56 cm (6.52 inch) Display\n",
      "8MP Rear Camera\n",
      "5000 mAh Battery\n",
      "2 year on phone domestic\n",
      "Weight: 246.5 g | Capacity: 10000 mAh\n",
      "Lithium Polymer Battery | Micro, Type-C Connector\n",
      "Power Source: Battery\n",
      "Charging Cable Included\n",
      "6 Months Domestic Warranty\n",
      "Weight: 246.5 g | Capacity: 10000 mAh\n",
      "Lithium Polymer Battery | Micro, Type-C Connector\n",
      "Power Source: Battery\n",
      "Charging Cable Included\n",
      "6 Months Domestic Warranty\n",
      "2 GB RAM | 32 GB ROM | Expandable Upto 512 GB\n",
      "16.56 cm (6.52 inch) HD+ Display\n",
      "8MP Rear Camera | 5MP Front Camera\n",
      "5000 mAh Lithium Polymer Battery\n",
      "Mediatek Helio A22 Processor\n",
      "1 Year Manufacturer Warranty for Phone and 6 Months Warranty for in the Box Accessories\n",
      "Weight: 447 g | Capacity: 20000 mAh\n",
      "Lithium Polymer Battery | Micro, Type-C Connector\n",
      "Power Source: Battery\n",
      "Charging Cable Included\n",
      "6 Months Domestic Warranty\n",
      "Weight: 447 g | Capacity: 20000 mAh\n",
      "Lithium Polymer Battery | Micro, Type-C Connector\n",
      "Power Source: Battery\n",
      "Charging Cable Included\n",
      "6 Months Domestic Warranty\n",
      "6 GB RAM | 64 GB ROM | Expandable Upto 1 TB\n",
      "16.94 cm (6.67 inch) Full HD+ Super AMOLED Display\n",
      "50MP + 8MP + 2MP | 13MP Front Camera\n",
      "5000 mAh Battery\n",
      "Snapdragon 685 Processor\n",
      "1 Year Manufacturer Warranty for Phone and 6 Months Warranty for In the Box Accessories\n",
      "With Mic:Yes\n",
      "Connector type: 3.5 mm\n",
      "Flatwire: Stays tangle free even in your pocket\n",
      "Anti-earwax earplugs\n",
      "Reinforced 90 degree angle audio jack\n",
      "Feather light weight - 13gms\n",
      "Y shaped flexible cable\n",
      "6 Months Limited Warranty\n",
      "6 GB RAM | 128 GB ROM\n",
      "16.94 cm (6.67 inch) Full HD+ AMOLED Display\n",
      "50MP (OIS) + 8MP + 2MP | 16MP Front Camera\n",
      "5000 mAh Lithium Polymer Battery\n",
      "Mediatek Dimensity 1080 Processor\n",
      "1 Year Manufacturer Warranty for Phone and 6 Months Warranty for In the Box Accessories\n",
      "4 GB RAM | 128 GB ROM | Expandable Upto 1 TB\n",
      "17.04 cm (6.71 inch) HD+ Display\n",
      "50MP Rear Camera | 5MP Front Camera\n",
      "5000 mAh Battery\n",
      "Mediatek MT6769Z Helio G85 Processor\n",
      "1 Year Manufacturer Warranty for Device and 6 Months Manufacturer Warranty for In-Box Accessories\n",
      "6 GB RAM | 128 GB ROM\n",
      "16.94 cm (6.67 inch) Full HD+ AMOLED Display\n",
      "50MP (OIS) + 8MP + 2MP | 16MP Front Camera\n",
      "5000 mAh Lithium Polymer Battery\n",
      "Mediatek Dimensity 1080 Processor\n",
      "1 Year Manufacturer Warranty for Phone and 6 Months Warranty for In the Box Accessories\n",
      "6 GB RAM | 128 GB ROM\n",
      "16.94 cm (6.67 inch) Full HD+ AMOLED Display\n",
      "50MP (OIS) + 8MP + 2MP | 16MP Front Camera\n",
      "5000 mAh Lithium Polymer Battery\n",
      "Mediatek Dimensity 1080 Processor\n",
      "1 Year Manufacturer Warranty for Phone and 6 Months Warranty for In the Box Accessories\n",
      "6 GB RAM | 128 GB ROM | Expandable Upto 1 TB\n",
      "16.94 cm (6.67 inch) Full HD+ AMOLED Display\n",
      "48MP + 8MP + 2MP | 13MP Front Camera\n",
      "5000 mAh Battery\n",
      "Qualcomm Snapdragon 4 Gen 1 Processor\n",
      "1 Year Manufacturer Warranty for Phone and 6 Months Warranty for In the Box Accessories\n",
      "6 GB RAM | 128 GB ROM | Expandable Upto 1 TB\n",
      "16.94 cm (6.67 inch) Full HD+ AMOLED Display\n",
      "48MP + 8MP + 2MP | 13MP Front Camera\n",
      "5000 mAh Battery\n",
      "Qualcomm Snapdragon 4 Gen 1 Processor\n",
      "1 Year Manufacturer Warranty for Phone and 6 Months Warranty for In the Box Accessories\n",
      "4 GB RAM | 128 GB ROM\n",
      "26.95 cm (10.61 Inch) Display\n",
      "8 MP Primary Camera | 8 MP Front\n",
      "Android 12 | Battery: 8000 mAh\n",
      "Processor: Octa Core\n",
      "1 Year Domestic Warranty\n",
      "4 GB RAM | 64 GB ROM\n",
      "16.56 cm (6.52 inch) Display\n",
      "8MP Rear Camera\n",
      "5000 mAh Battery\n",
      "2 year on phone domestic\n"
     ]
    }
   ],
   "source": [
    "for description in product_description:\n",
    "    print(description.text)"
   ]
  },
  {
   "cell_type": "code",
   "execution_count": 17,
   "id": "12d1a0e2-2432-4aba-a988-5ce4373632a7",
   "metadata": {},
   "outputs": [],
   "source": [
    "product_exchange_offer = flipcart_html.find_all(\"div\", {\"class\": \"_2ZdXDB\"})"
   ]
  },
  {
   "cell_type": "code",
   "execution_count": 18,
   "id": "8bea7704-7897-4084-a873-b07833f0d0b4",
   "metadata": {},
   "outputs": [
    {
     "name": "stdout",
     "output_type": "stream",
     "text": [
      "No Cost EMI from ₹1,220/month\n",
      "Buy 2 items, save extra 5%\n",
      "Buy 2 items, save extra 5%\n",
      "Buy 2 items, save extra 5%\n",
      "Buy 2 items, save extra 5%\n",
      "No Cost EMI from ₹1,556/month\n",
      "Daily Saver\n",
      "No Cost EMI from ₹2,667/month\n",
      "No Cost EMI from ₹1,582/month\n",
      "Daily Saver\n",
      "No Cost EMI from ₹2,667/month\n",
      "Daily Saver\n",
      "No Cost EMI from ₹2,667/month\n",
      "Daily Saver\n",
      "No Cost EMI from ₹3,167/month\n",
      "Daily Saver\n",
      "No Cost EMI from ₹3,167/month\n",
      "Daily Saver\n",
      "No Cost EMI from ₹1,778/month\n",
      "No Cost EMI from ₹1,203/month\n"
     ]
    }
   ],
   "source": [
    "for offer in product_exchange_offer:\n",
    "    print(offer.text)"
   ]
  },
  {
   "cell_type": "code",
   "execution_count": 19,
   "id": "55dd47e6-6922-4061-bec4-2cc09e201bdb",
   "metadata": {},
   "outputs": [
    {
     "name": "stdout",
     "output_type": "stream",
     "text": [
      "<div class=\"_4rR01T\">REDMI A2 (Classic Black, 64 GB)</div> <div class=\"_30jeq3 _1_WHN1\">₹7,213</div> <div class=\"_3LWZlK _1rdVr6 _1BLPMq\">1<img class=\"_1wB99o\" src=\"data:image/svg+xml;base64,PHN2ZyB4bWxucz0iaHR0cDovL3d3dy53My5vcmcvMjAwMC9zdmciIHdpZHRoPSIxMyIgaGVpZ2h0PSIxMiI+PHBhdGggZmlsbD0iI0ZGRiIgZD0iTTYuNSA5LjQzOWwtMy42NzQgMi4yMy45NC00LjI2LTMuMjEtMi44ODMgNC4yNTQtLjQwNEw2LjUuMTEybDEuNjkgNC4wMSA0LjI1NC40MDQtMy4yMSAyLjg4Mi45NCA0LjI2eiIvPjwvc3ZnPg==\"/></div> <div class=\"_3Ay6Sb _2FuKQX\"><span>37% off</span></div> <li class=\"rgWa7D\">2 year on phone domestic</li> <div class=\"_2ZdXDB\"><div class=\"_3xFhiH\"><div class=\"_2Tpdn3 _18hQoS\" style=\"color:#000000;font-size:12px;font-weight:400\">No Cost EMI from ₹1,203/month</div></div></div>\n"
     ]
    }
   ],
   "source": [
    "print(title, price, rating, discount, description, offer)"
   ]
  }
 ],
 "metadata": {
  "kernelspec": {
   "display_name": "Python 3 (ipykernel)",
   "language": "python",
   "name": "python3"
  },
  "language_info": {
   "codemirror_mode": {
    "name": "ipython",
    "version": 3
   },
   "file_extension": ".py",
   "mimetype": "text/x-python",
   "name": "python",
   "nbconvert_exporter": "python",
   "pygments_lexer": "ipython3",
   "version": "3.9.2"
  }
 },
 "nbformat": 4,
 "nbformat_minor": 5
}
